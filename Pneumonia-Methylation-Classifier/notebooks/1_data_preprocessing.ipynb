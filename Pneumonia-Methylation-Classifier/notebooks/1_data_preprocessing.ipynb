{
 "cells": [
  {
   "cell_type": "code",
   "execution_count": null,
   "id": "387ba61e-e6b6-4cfa-a40a-edd95ddc421a",
   "metadata": {},
   "outputs": [],
   "source": [
    "# Pneumonia Methylation Data Preprocessing\n",
    "import pandas as pd\n",
    "import numpy as np\n",
    "from src.preprocessing import load_data, preprocess_data\n",
    "\n",
    "# Load dataset\n",
    "x, y = load_data(\"data/raw/PNCpGValues.xlsx\")\n",
    "\n",
    "# Preprocess data\n",
    "x_preprocessed, y_preprocessed = preprocess_data(x, y)\n",
    "\n",
    "print(f\"Loaded {len(x_preprocessed)} samples with {len(x_preprocessed[0])} features\")"
   ]
  }
 ],
 "metadata": {
  "kernelspec": {
   "display_name": "Python (pneumonia-ml)",
   "language": "python",
   "name": "pneumonia-ml"
  },
  "language_info": {
   "codemirror_mode": {
    "name": "ipython",
    "version": 3
   },
   "file_extension": ".py",
   "mimetype": "text/x-python",
   "name": "python",
   "nbconvert_exporter": "python",
   "pygments_lexer": "ipython3",
   "version": "3.13.5"
  }
 },
 "nbformat": 4,
 "nbformat_minor": 5
}
