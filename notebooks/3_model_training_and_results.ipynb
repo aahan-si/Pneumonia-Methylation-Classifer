{
 "cells": [
  {
   "cell_type": "code",
   "execution_count": null,
   "id": "e61bf205-d6bd-4897-aa09-8d446cc67aeb",
   "metadata": {},
   "outputs": [],
   "source": [
    "from sklearn.linear_model import ElasticNetCV\n",
    "from sklearn.metrics import classification_report\n",
    "\n",
    "en = ElasticNetCV(cv=5)\n",
    "en.fit(X_train_selected, y_train_resampled)\n",
    "y_pred = en.predict(X_test_selected) > 0.5\n",
    "\n",
    "print(classification_report(y_test, y_pred))\n",
    "\n",
    "# Export feature importance or final CpG list\n",
    "top_features = X.columns[selector.get_support()]\n",
    "pd.Series(top_features).to_csv(\"results/top_CpGs.csv\", index=False)\n"
   ]
  }
 ],
 "metadata": {
  "kernelspec": {
   "display_name": "",
   "name": ""
  },
  "language_info": {
   "name": ""
  }
 },
 "nbformat": 4,
 "nbformat_minor": 5
}
