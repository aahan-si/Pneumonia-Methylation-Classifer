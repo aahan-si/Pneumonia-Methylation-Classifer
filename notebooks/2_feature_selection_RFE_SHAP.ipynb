{
 "cells": [
  {
   "cell_type": "code",
   "execution_count": null,
   "id": "2a05f983",
   "metadata": {
    "vscode": {
     "languageId": "plaintext"
    }
   },
   "outputs": [],
   "source": [
    "from sklearn.linear_model import LogisticRegression\n",
    "from sklearn.feature_selection import RFE\n",
    "\n",
    "# RFE\n",
    "lr = LogisticRegression(penalty='l2', max_iter=1000)\n",
    "selector = RFE(estimator=lr, n_features_to_select=100, step=10)\n",
    "selector.fit(X_train_resampled, y_train_resampled)\n",
    "X_train_selected = selector.transform(X_train_resampled)\n",
    "X_test_selected = selector.transform(X_test_scaled)\n",
    "\n",
    "# SHAP\n",
    "import shap\n",
    "from sklearn.ensemble import RandomForestClassifier\n",
    "\n",
    "rf = RandomForestClassifier().fit(X_train_selected, y_train_resampled)\n",
    "explainer = shap.TreeExplainer(rf)\n",
    "shap_values = explainer.shap_values(X_train_selected)\n",
    "shap.summary_plot(shap_values[1], X_train_selected, plot_type=\"bar\")\n"
   ]
  }
 ],
 "metadata": {
  "kernelspec": {
   "display_name": "Python (pneumonia-ml)",
   "language": "python",
   "name": "pneumonia-ml"
  },
  "language_info": {
   "codemirror_mode": {
    "name": "ipython",
    "version": 3
   },
   "file_extension": ".py",
   "mimetype": "text/x-python",
   "name": "python",
   "nbconvert_exporter": "python",
   "pygments_lexer": "ipython3",
   "version": "3.13.5"
  }
 },
 "nbformat": 4,
 "nbformat_minor": 5
}
